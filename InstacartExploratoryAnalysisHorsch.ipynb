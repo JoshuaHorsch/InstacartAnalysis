{
  "nbformat": 4,
  "nbformat_minor": 0,
  "metadata": {
    "colab": {
      "name": "InstacartExploratoryAnalysisHorsch.ipynb",
      "provenance": [],
      "collapsed_sections": [],
      "toc_visible": true
    },
    "kernelspec": {
      "name": "python3",
      "display_name": "Python 3"
    }
  },
  "cells": [
    {
      "cell_type": "markdown",
      "metadata": {
        "id": "Wqbt8weq2Oft"
      },
      "source": [
        "# Instacart Market Basket Basic Exploratory Analysis"
      ]
    },
    {
      "cell_type": "code",
      "metadata": {
        "id": "9srEXuiR06-s"
      },
      "source": [
        "# Import necessary libraries\n",
        "\n",
        "import numpy as np\n",
        "import pandas as pd\n",
        "import matplotlib.pyplot as plt\n",
        "%matplotlib inline\n",
        "import seaborn as sns\n",
        "import sqlite3"
      ],
      "execution_count": 1,
      "outputs": []
    },
    {
      "cell_type": "markdown",
      "metadata": {
        "id": "xMhnwrEC2pwZ"
      },
      "source": [
        "## Explore Aisles Table"
      ]
    },
    {
      "cell_type": "code",
      "metadata": {
        "id": "qSPq8Bwp2b1q"
      },
      "source": [
        "# Create dataframe from aisles csv file\n",
        "\n",
        "aisles = pd.read_csv('/content/drive/MyDrive/archive/aisles.csv')"
      ],
      "execution_count": 2,
      "outputs": []
    },
    {
      "cell_type": "code",
      "metadata": {
        "colab": {
          "base_uri": "https://localhost:8080/",
          "height": 204
        },
        "id": "YQw2Gmet2z5r",
        "outputId": "ffbf4718-05de-4239-ee0a-ef1d6ee4c613"
      },
      "source": [
        "# Look at layout of aisles table\n",
        "\n",
        "aisles.head()"
      ],
      "execution_count": 3,
      "outputs": [
        {
          "output_type": "execute_result",
          "data": {
            "text/html": [
              "<div>\n",
              "<style scoped>\n",
              "    .dataframe tbody tr th:only-of-type {\n",
              "        vertical-align: middle;\n",
              "    }\n",
              "\n",
              "    .dataframe tbody tr th {\n",
              "        vertical-align: top;\n",
              "    }\n",
              "\n",
              "    .dataframe thead th {\n",
              "        text-align: right;\n",
              "    }\n",
              "</style>\n",
              "<table border=\"1\" class=\"dataframe\">\n",
              "  <thead>\n",
              "    <tr style=\"text-align: right;\">\n",
              "      <th></th>\n",
              "      <th>aisle_id</th>\n",
              "      <th>aisle</th>\n",
              "    </tr>\n",
              "  </thead>\n",
              "  <tbody>\n",
              "    <tr>\n",
              "      <th>0</th>\n",
              "      <td>1</td>\n",
              "      <td>prepared soups salads</td>\n",
              "    </tr>\n",
              "    <tr>\n",
              "      <th>1</th>\n",
              "      <td>2</td>\n",
              "      <td>specialty cheeses</td>\n",
              "    </tr>\n",
              "    <tr>\n",
              "      <th>2</th>\n",
              "      <td>3</td>\n",
              "      <td>energy granola bars</td>\n",
              "    </tr>\n",
              "    <tr>\n",
              "      <th>3</th>\n",
              "      <td>4</td>\n",
              "      <td>instant foods</td>\n",
              "    </tr>\n",
              "    <tr>\n",
              "      <th>4</th>\n",
              "      <td>5</td>\n",
              "      <td>marinades meat preparation</td>\n",
              "    </tr>\n",
              "  </tbody>\n",
              "</table>\n",
              "</div>"
            ],
            "text/plain": [
              "   aisle_id                       aisle\n",
              "0         1       prepared soups salads\n",
              "1         2           specialty cheeses\n",
              "2         3         energy granola bars\n",
              "3         4               instant foods\n",
              "4         5  marinades meat preparation"
            ]
          },
          "metadata": {
            "tags": []
          },
          "execution_count": 3
        }
      ]
    },
    {
      "cell_type": "code",
      "metadata": {
        "colab": {
          "base_uri": "https://localhost:8080/"
        },
        "id": "GY3MxE-k21XB",
        "outputId": "04b61839-a237-4d7d-fa27-9dd48d1c3bc0"
      },
      "source": [
        "# Info on data in aisles table\n",
        "\n",
        "aisles.info()"
      ],
      "execution_count": 4,
      "outputs": [
        {
          "output_type": "stream",
          "text": [
            "<class 'pandas.core.frame.DataFrame'>\n",
            "RangeIndex: 134 entries, 0 to 133\n",
            "Data columns (total 2 columns):\n",
            " #   Column    Non-Null Count  Dtype \n",
            "---  ------    --------------  ----- \n",
            " 0   aisle_id  134 non-null    int64 \n",
            " 1   aisle     134 non-null    object\n",
            "dtypes: int64(1), object(1)\n",
            "memory usage: 2.2+ KB\n"
          ],
          "name": "stdout"
        }
      ]
    },
    {
      "cell_type": "code",
      "metadata": {
        "colab": {
          "base_uri": "https://localhost:8080/"
        },
        "id": "zJ0TgcKc2-IH",
        "outputId": "39d9fa3e-183e-4b27-954c-956697c1d431"
      },
      "source": [
        "# List all aisle names\n",
        "\n",
        "[name for name in aisles.aisle]"
      ],
      "execution_count": 5,
      "outputs": [
        {
          "output_type": "execute_result",
          "data": {
            "text/plain": [
              "['prepared soups salads',\n",
              " 'specialty cheeses',\n",
              " 'energy granola bars',\n",
              " 'instant foods',\n",
              " 'marinades meat preparation',\n",
              " 'other',\n",
              " 'packaged meat',\n",
              " 'bakery desserts',\n",
              " 'pasta sauce',\n",
              " 'kitchen supplies',\n",
              " 'cold flu allergy',\n",
              " 'fresh pasta',\n",
              " 'prepared meals',\n",
              " 'tofu meat alternatives',\n",
              " 'packaged seafood',\n",
              " 'fresh herbs',\n",
              " 'baking ingredients',\n",
              " 'bulk dried fruits vegetables',\n",
              " 'oils vinegars',\n",
              " 'oral hygiene',\n",
              " 'packaged cheese',\n",
              " 'hair care',\n",
              " 'popcorn jerky',\n",
              " 'fresh fruits',\n",
              " 'soap',\n",
              " 'coffee',\n",
              " 'beers coolers',\n",
              " 'red wines',\n",
              " 'honeys syrups nectars',\n",
              " 'latino foods',\n",
              " 'refrigerated',\n",
              " 'packaged produce',\n",
              " 'kosher foods',\n",
              " 'frozen meat seafood',\n",
              " 'poultry counter',\n",
              " 'butter',\n",
              " 'ice cream ice',\n",
              " 'frozen meals',\n",
              " 'seafood counter',\n",
              " 'dog food care',\n",
              " 'cat food care',\n",
              " 'frozen vegan vegetarian',\n",
              " 'buns rolls',\n",
              " 'eye ear care',\n",
              " 'candy chocolate',\n",
              " 'mint gum',\n",
              " 'vitamins supplements',\n",
              " 'breakfast bars pastries',\n",
              " 'packaged poultry',\n",
              " 'fruit vegetable snacks',\n",
              " 'preserved dips spreads',\n",
              " 'frozen breakfast',\n",
              " 'cream',\n",
              " 'paper goods',\n",
              " 'shave needs',\n",
              " 'diapers wipes',\n",
              " 'granola',\n",
              " 'frozen breads doughs',\n",
              " 'canned meals beans',\n",
              " 'trash bags liners',\n",
              " 'cookies cakes',\n",
              " 'white wines',\n",
              " 'grains rice dried goods',\n",
              " 'energy sports drinks',\n",
              " 'protein meal replacements',\n",
              " 'asian foods',\n",
              " 'fresh dips tapenades',\n",
              " 'bulk grains rice dried goods',\n",
              " 'soup broth bouillon',\n",
              " 'digestion',\n",
              " 'refrigerated pudding desserts',\n",
              " 'condiments',\n",
              " 'facial care',\n",
              " 'dish detergents',\n",
              " 'laundry',\n",
              " 'indian foods',\n",
              " 'soft drinks',\n",
              " 'crackers',\n",
              " 'frozen pizza',\n",
              " 'deodorants',\n",
              " 'canned jarred vegetables',\n",
              " 'baby accessories',\n",
              " 'fresh vegetables',\n",
              " 'milk',\n",
              " 'food storage',\n",
              " 'eggs',\n",
              " 'more household',\n",
              " 'spreads',\n",
              " 'salad dressing toppings',\n",
              " 'cocoa drink mixes',\n",
              " 'soy lactosefree',\n",
              " 'baby food formula',\n",
              " 'breakfast bakery',\n",
              " 'tea',\n",
              " 'canned meat seafood',\n",
              " 'lunch meat',\n",
              " 'baking supplies decor',\n",
              " 'juice nectars',\n",
              " 'canned fruit applesauce',\n",
              " 'missing',\n",
              " 'air fresheners candles',\n",
              " 'baby bath body care',\n",
              " 'ice cream toppings',\n",
              " 'spices seasonings',\n",
              " 'doughs gelatins bake mixes',\n",
              " 'hot dogs bacon sausage',\n",
              " 'chips pretzels',\n",
              " 'other creams cheeses',\n",
              " 'skin care',\n",
              " 'pickled goods olives',\n",
              " 'plates bowls cups flatware',\n",
              " 'bread',\n",
              " 'frozen juice',\n",
              " 'cleaning products',\n",
              " 'water seltzer sparkling water',\n",
              " 'frozen produce',\n",
              " 'nuts seeds dried fruit',\n",
              " 'first aid',\n",
              " 'frozen dessert',\n",
              " 'yogurt',\n",
              " 'cereal',\n",
              " 'meat counter',\n",
              " 'packaged vegetables fruits',\n",
              " 'spirits',\n",
              " 'trail mix snack mix',\n",
              " 'feminine care',\n",
              " 'body lotions soap',\n",
              " 'tortillas flat bread',\n",
              " 'frozen appetizers sides',\n",
              " 'hot cereal pancake mixes',\n",
              " 'dry pasta',\n",
              " 'beauty',\n",
              " 'muscles joints pain relief',\n",
              " 'specialty wines champagnes']"
            ]
          },
          "metadata": {
            "tags": []
          },
          "execution_count": 5
        }
      ]
    },
    {
      "cell_type": "code",
      "metadata": {
        "colab": {
          "base_uri": "https://localhost:8080/",
          "height": 80
        },
        "id": "3v5esiJn3Cs-",
        "outputId": "8efb7ff3-09cd-41bf-dc20-698f54a558a2"
      },
      "source": [
        "# One of the aisles was listed as missing. Keeping track of which one.\n",
        "\n",
        "aisles[aisles['aisle'] == 'missing']"
      ],
      "execution_count": 6,
      "outputs": [
        {
          "output_type": "execute_result",
          "data": {
            "text/html": [
              "<div>\n",
              "<style scoped>\n",
              "    .dataframe tbody tr th:only-of-type {\n",
              "        vertical-align: middle;\n",
              "    }\n",
              "\n",
              "    .dataframe tbody tr th {\n",
              "        vertical-align: top;\n",
              "    }\n",
              "\n",
              "    .dataframe thead th {\n",
              "        text-align: right;\n",
              "    }\n",
              "</style>\n",
              "<table border=\"1\" class=\"dataframe\">\n",
              "  <thead>\n",
              "    <tr style=\"text-align: right;\">\n",
              "      <th></th>\n",
              "      <th>aisle_id</th>\n",
              "      <th>aisle</th>\n",
              "    </tr>\n",
              "  </thead>\n",
              "  <tbody>\n",
              "    <tr>\n",
              "      <th>99</th>\n",
              "      <td>100</td>\n",
              "      <td>missing</td>\n",
              "    </tr>\n",
              "  </tbody>\n",
              "</table>\n",
              "</div>"
            ],
            "text/plain": [
              "    aisle_id    aisle\n",
              "99       100  missing"
            ]
          },
          "metadata": {
            "tags": []
          },
          "execution_count": 6
        }
      ]
    },
    {
      "cell_type": "markdown",
      "metadata": {
        "id": "pbgo3vgh3iLa"
      },
      "source": [
        "## Explore Departments Table"
      ]
    },
    {
      "cell_type": "code",
      "metadata": {
        "id": "ko8ro8ai3X6i"
      },
      "source": [
        "# Create dataframe from departments csv file\n",
        "\n",
        "departments = pd.read_csv('/content/drive/MyDrive/archive/departments.csv')"
      ],
      "execution_count": 7,
      "outputs": []
    },
    {
      "cell_type": "code",
      "metadata": {
        "colab": {
          "base_uri": "https://localhost:8080/",
          "height": 204
        },
        "id": "oST-EbDK3xzp",
        "outputId": "1dc181b4-25f8-4598-fa93-89fd3941d9ff"
      },
      "source": [
        "# Look at layout of departments table\n",
        "\n",
        "departments.head()"
      ],
      "execution_count": 8,
      "outputs": [
        {
          "output_type": "execute_result",
          "data": {
            "text/html": [
              "<div>\n",
              "<style scoped>\n",
              "    .dataframe tbody tr th:only-of-type {\n",
              "        vertical-align: middle;\n",
              "    }\n",
              "\n",
              "    .dataframe tbody tr th {\n",
              "        vertical-align: top;\n",
              "    }\n",
              "\n",
              "    .dataframe thead th {\n",
              "        text-align: right;\n",
              "    }\n",
              "</style>\n",
              "<table border=\"1\" class=\"dataframe\">\n",
              "  <thead>\n",
              "    <tr style=\"text-align: right;\">\n",
              "      <th></th>\n",
              "      <th>department_id</th>\n",
              "      <th>department</th>\n",
              "    </tr>\n",
              "  </thead>\n",
              "  <tbody>\n",
              "    <tr>\n",
              "      <th>0</th>\n",
              "      <td>1</td>\n",
              "      <td>frozen</td>\n",
              "    </tr>\n",
              "    <tr>\n",
              "      <th>1</th>\n",
              "      <td>2</td>\n",
              "      <td>other</td>\n",
              "    </tr>\n",
              "    <tr>\n",
              "      <th>2</th>\n",
              "      <td>3</td>\n",
              "      <td>bakery</td>\n",
              "    </tr>\n",
              "    <tr>\n",
              "      <th>3</th>\n",
              "      <td>4</td>\n",
              "      <td>produce</td>\n",
              "    </tr>\n",
              "    <tr>\n",
              "      <th>4</th>\n",
              "      <td>5</td>\n",
              "      <td>alcohol</td>\n",
              "    </tr>\n",
              "  </tbody>\n",
              "</table>\n",
              "</div>"
            ],
            "text/plain": [
              "   department_id department\n",
              "0              1     frozen\n",
              "1              2      other\n",
              "2              3     bakery\n",
              "3              4    produce\n",
              "4              5    alcohol"
            ]
          },
          "metadata": {
            "tags": []
          },
          "execution_count": 8
        }
      ]
    },
    {
      "cell_type": "code",
      "metadata": {
        "colab": {
          "base_uri": "https://localhost:8080/"
        },
        "id": "4g3-PYAG30Vh",
        "outputId": "16b19901-4635-4dd8-9b9c-e814a956526f"
      },
      "source": [
        "# Info on data in departments table\n",
        "\n",
        "departments.info()"
      ],
      "execution_count": 9,
      "outputs": [
        {
          "output_type": "stream",
          "text": [
            "<class 'pandas.core.frame.DataFrame'>\n",
            "RangeIndex: 21 entries, 0 to 20\n",
            "Data columns (total 2 columns):\n",
            " #   Column         Non-Null Count  Dtype \n",
            "---  ------         --------------  ----- \n",
            " 0   department_id  21 non-null     int64 \n",
            " 1   department     21 non-null     object\n",
            "dtypes: int64(1), object(1)\n",
            "memory usage: 464.0+ bytes\n"
          ],
          "name": "stdout"
        }
      ]
    },
    {
      "cell_type": "code",
      "metadata": {
        "colab": {
          "base_uri": "https://localhost:8080/"
        },
        "id": "LX6hTmJp4Cga",
        "outputId": "78ae798c-ecaf-476a-8d81-a463cfdd956a"
      },
      "source": [
        "# List all department names\n",
        "\n",
        "[name for name in departments.department]"
      ],
      "execution_count": 10,
      "outputs": [
        {
          "output_type": "execute_result",
          "data": {
            "text/plain": [
              "['frozen',\n",
              " 'other',\n",
              " 'bakery',\n",
              " 'produce',\n",
              " 'alcohol',\n",
              " 'international',\n",
              " 'beverages',\n",
              " 'pets',\n",
              " 'dry goods pasta',\n",
              " 'bulk',\n",
              " 'personal care',\n",
              " 'meat seafood',\n",
              " 'pantry',\n",
              " 'breakfast',\n",
              " 'canned goods',\n",
              " 'dairy eggs',\n",
              " 'household',\n",
              " 'babies',\n",
              " 'snacks',\n",
              " 'deli',\n",
              " 'missing']"
            ]
          },
          "metadata": {
            "tags": []
          },
          "execution_count": 10
        }
      ]
    },
    {
      "cell_type": "code",
      "metadata": {
        "colab": {
          "base_uri": "https://localhost:8080/",
          "height": 80
        },
        "id": "d4X5KCDD4TSb",
        "outputId": "fc09f2db-d285-43fd-edca-9051811a84b1"
      },
      "source": [
        "# One of the departments is listed as missing. Keeping track of which one.\n",
        "\n",
        "departments[departments['department'] == 'missing']"
      ],
      "execution_count": 11,
      "outputs": [
        {
          "output_type": "execute_result",
          "data": {
            "text/html": [
              "<div>\n",
              "<style scoped>\n",
              "    .dataframe tbody tr th:only-of-type {\n",
              "        vertical-align: middle;\n",
              "    }\n",
              "\n",
              "    .dataframe tbody tr th {\n",
              "        vertical-align: top;\n",
              "    }\n",
              "\n",
              "    .dataframe thead th {\n",
              "        text-align: right;\n",
              "    }\n",
              "</style>\n",
              "<table border=\"1\" class=\"dataframe\">\n",
              "  <thead>\n",
              "    <tr style=\"text-align: right;\">\n",
              "      <th></th>\n",
              "      <th>department_id</th>\n",
              "      <th>department</th>\n",
              "    </tr>\n",
              "  </thead>\n",
              "  <tbody>\n",
              "    <tr>\n",
              "      <th>20</th>\n",
              "      <td>21</td>\n",
              "      <td>missing</td>\n",
              "    </tr>\n",
              "  </tbody>\n",
              "</table>\n",
              "</div>"
            ],
            "text/plain": [
              "    department_id department\n",
              "20             21    missing"
            ]
          },
          "metadata": {
            "tags": []
          },
          "execution_count": 11
        }
      ]
    },
    {
      "cell_type": "markdown",
      "metadata": {
        "id": "BMylLwi54sms"
      },
      "source": [
        "## Explore Orders Table"
      ]
    },
    {
      "cell_type": "code",
      "metadata": {
        "id": "s1hb-4rr4fJ0"
      },
      "source": [
        "# Create dataframe from orders csv file\n",
        "\n",
        "orders = pd.read_csv('/content/drive/MyDrive/archive/orders.csv')"
      ],
      "execution_count": 12,
      "outputs": []
    },
    {
      "cell_type": "code",
      "metadata": {
        "colab": {
          "base_uri": "https://localhost:8080/",
          "height": 204
        },
        "id": "W4opNi3F4yVT",
        "outputId": "4cb46419-8171-4141-93bf-31e31347184f"
      },
      "source": [
        "# Look at layout of orders table\n",
        "\n",
        "orders.head()"
      ],
      "execution_count": 13,
      "outputs": [
        {
          "output_type": "execute_result",
          "data": {
            "text/html": [
              "<div>\n",
              "<style scoped>\n",
              "    .dataframe tbody tr th:only-of-type {\n",
              "        vertical-align: middle;\n",
              "    }\n",
              "\n",
              "    .dataframe tbody tr th {\n",
              "        vertical-align: top;\n",
              "    }\n",
              "\n",
              "    .dataframe thead th {\n",
              "        text-align: right;\n",
              "    }\n",
              "</style>\n",
              "<table border=\"1\" class=\"dataframe\">\n",
              "  <thead>\n",
              "    <tr style=\"text-align: right;\">\n",
              "      <th></th>\n",
              "      <th>order_id</th>\n",
              "      <th>user_id</th>\n",
              "      <th>eval_set</th>\n",
              "      <th>order_number</th>\n",
              "      <th>order_dow</th>\n",
              "      <th>order_hour_of_day</th>\n",
              "      <th>days_since_prior_order</th>\n",
              "    </tr>\n",
              "  </thead>\n",
              "  <tbody>\n",
              "    <tr>\n",
              "      <th>0</th>\n",
              "      <td>2539329</td>\n",
              "      <td>1</td>\n",
              "      <td>prior</td>\n",
              "      <td>1</td>\n",
              "      <td>2</td>\n",
              "      <td>8</td>\n",
              "      <td>NaN</td>\n",
              "    </tr>\n",
              "    <tr>\n",
              "      <th>1</th>\n",
              "      <td>2398795</td>\n",
              "      <td>1</td>\n",
              "      <td>prior</td>\n",
              "      <td>2</td>\n",
              "      <td>3</td>\n",
              "      <td>7</td>\n",
              "      <td>15.0</td>\n",
              "    </tr>\n",
              "    <tr>\n",
              "      <th>2</th>\n",
              "      <td>473747</td>\n",
              "      <td>1</td>\n",
              "      <td>prior</td>\n",
              "      <td>3</td>\n",
              "      <td>3</td>\n",
              "      <td>12</td>\n",
              "      <td>21.0</td>\n",
              "    </tr>\n",
              "    <tr>\n",
              "      <th>3</th>\n",
              "      <td>2254736</td>\n",
              "      <td>1</td>\n",
              "      <td>prior</td>\n",
              "      <td>4</td>\n",
              "      <td>4</td>\n",
              "      <td>7</td>\n",
              "      <td>29.0</td>\n",
              "    </tr>\n",
              "    <tr>\n",
              "      <th>4</th>\n",
              "      <td>431534</td>\n",
              "      <td>1</td>\n",
              "      <td>prior</td>\n",
              "      <td>5</td>\n",
              "      <td>4</td>\n",
              "      <td>15</td>\n",
              "      <td>28.0</td>\n",
              "    </tr>\n",
              "  </tbody>\n",
              "</table>\n",
              "</div>"
            ],
            "text/plain": [
              "   order_id  user_id  ... order_hour_of_day  days_since_prior_order\n",
              "0   2539329        1  ...                 8                     NaN\n",
              "1   2398795        1  ...                 7                    15.0\n",
              "2    473747        1  ...                12                    21.0\n",
              "3   2254736        1  ...                 7                    29.0\n",
              "4    431534        1  ...                15                    28.0\n",
              "\n",
              "[5 rows x 7 columns]"
            ]
          },
          "metadata": {
            "tags": []
          },
          "execution_count": 13
        }
      ]
    },
    {
      "cell_type": "code",
      "metadata": {
        "colab": {
          "base_uri": "https://localhost:8080/"
        },
        "id": "bjeKvXvD44zG",
        "outputId": "55f19169-f1e4-4b0d-d4cc-cda5ea643440"
      },
      "source": [
        "# Info on data in orders table\n",
        "\n",
        "orders.info()"
      ],
      "execution_count": 14,
      "outputs": [
        {
          "output_type": "stream",
          "text": [
            "<class 'pandas.core.frame.DataFrame'>\n",
            "RangeIndex: 3421083 entries, 0 to 3421082\n",
            "Data columns (total 7 columns):\n",
            " #   Column                  Dtype  \n",
            "---  ------                  -----  \n",
            " 0   order_id                int64  \n",
            " 1   user_id                 int64  \n",
            " 2   eval_set                object \n",
            " 3   order_number            int64  \n",
            " 4   order_dow               int64  \n",
            " 5   order_hour_of_day       int64  \n",
            " 6   days_since_prior_order  float64\n",
            "dtypes: float64(1), int64(5), object(1)\n",
            "memory usage: 182.7+ MB\n"
          ],
          "name": "stdout"
        }
      ]
    },
    {
      "cell_type": "code",
      "metadata": {
        "colab": {
          "base_uri": "https://localhost:8080/",
          "height": 297
        },
        "id": "K6ANWr6Z4_fq",
        "outputId": "84cab80c-2b8e-4a1d-acbf-baa66273d7bd"
      },
      "source": [
        "# Summary stats for orders table. Use lambda function to convert from scientific notation to float\n",
        "\n",
        "orders.describe().apply(lambda s: s.apply('{0:.3f}'.format))"
      ],
      "execution_count": 15,
      "outputs": [
        {
          "output_type": "execute_result",
          "data": {
            "text/html": [
              "<div>\n",
              "<style scoped>\n",
              "    .dataframe tbody tr th:only-of-type {\n",
              "        vertical-align: middle;\n",
              "    }\n",
              "\n",
              "    .dataframe tbody tr th {\n",
              "        vertical-align: top;\n",
              "    }\n",
              "\n",
              "    .dataframe thead th {\n",
              "        text-align: right;\n",
              "    }\n",
              "</style>\n",
              "<table border=\"1\" class=\"dataframe\">\n",
              "  <thead>\n",
              "    <tr style=\"text-align: right;\">\n",
              "      <th></th>\n",
              "      <th>order_id</th>\n",
              "      <th>user_id</th>\n",
              "      <th>order_number</th>\n",
              "      <th>order_dow</th>\n",
              "      <th>order_hour_of_day</th>\n",
              "      <th>days_since_prior_order</th>\n",
              "    </tr>\n",
              "  </thead>\n",
              "  <tbody>\n",
              "    <tr>\n",
              "      <th>count</th>\n",
              "      <td>3421083.000</td>\n",
              "      <td>3421083.000</td>\n",
              "      <td>3421083.000</td>\n",
              "      <td>3421083.000</td>\n",
              "      <td>3421083.000</td>\n",
              "      <td>3214874.000</td>\n",
              "    </tr>\n",
              "    <tr>\n",
              "      <th>mean</th>\n",
              "      <td>1710542.000</td>\n",
              "      <td>102978.208</td>\n",
              "      <td>17.155</td>\n",
              "      <td>2.776</td>\n",
              "      <td>13.452</td>\n",
              "      <td>11.115</td>\n",
              "    </tr>\n",
              "    <tr>\n",
              "      <th>std</th>\n",
              "      <td>987581.740</td>\n",
              "      <td>59533.718</td>\n",
              "      <td>17.733</td>\n",
              "      <td>2.047</td>\n",
              "      <td>4.226</td>\n",
              "      <td>9.207</td>\n",
              "    </tr>\n",
              "    <tr>\n",
              "      <th>min</th>\n",
              "      <td>1.000</td>\n",
              "      <td>1.000</td>\n",
              "      <td>1.000</td>\n",
              "      <td>0.000</td>\n",
              "      <td>0.000</td>\n",
              "      <td>0.000</td>\n",
              "    </tr>\n",
              "    <tr>\n",
              "      <th>25%</th>\n",
              "      <td>855271.500</td>\n",
              "      <td>51394.000</td>\n",
              "      <td>5.000</td>\n",
              "      <td>1.000</td>\n",
              "      <td>10.000</td>\n",
              "      <td>4.000</td>\n",
              "    </tr>\n",
              "    <tr>\n",
              "      <th>50%</th>\n",
              "      <td>1710542.000</td>\n",
              "      <td>102689.000</td>\n",
              "      <td>11.000</td>\n",
              "      <td>3.000</td>\n",
              "      <td>13.000</td>\n",
              "      <td>7.000</td>\n",
              "    </tr>\n",
              "    <tr>\n",
              "      <th>75%</th>\n",
              "      <td>2565812.500</td>\n",
              "      <td>154385.000</td>\n",
              "      <td>23.000</td>\n",
              "      <td>5.000</td>\n",
              "      <td>16.000</td>\n",
              "      <td>15.000</td>\n",
              "    </tr>\n",
              "    <tr>\n",
              "      <th>max</th>\n",
              "      <td>3421083.000</td>\n",
              "      <td>206209.000</td>\n",
              "      <td>100.000</td>\n",
              "      <td>6.000</td>\n",
              "      <td>23.000</td>\n",
              "      <td>30.000</td>\n",
              "    </tr>\n",
              "  </tbody>\n",
              "</table>\n",
              "</div>"
            ],
            "text/plain": [
              "          order_id      user_id  ... order_hour_of_day days_since_prior_order\n",
              "count  3421083.000  3421083.000  ...       3421083.000            3214874.000\n",
              "mean   1710542.000   102978.208  ...            13.452                 11.115\n",
              "std     987581.740    59533.718  ...             4.226                  9.207\n",
              "min          1.000        1.000  ...             0.000                  0.000\n",
              "25%     855271.500    51394.000  ...            10.000                  4.000\n",
              "50%    1710542.000   102689.000  ...            13.000                  7.000\n",
              "75%    2565812.500   154385.000  ...            16.000                 15.000\n",
              "max    3421083.000   206209.000  ...            23.000                 30.000\n",
              "\n",
              "[8 rows x 6 columns]"
            ]
          },
          "metadata": {
            "tags": []
          },
          "execution_count": 15
        }
      ]
    },
    {
      "cell_type": "code",
      "metadata": {
        "colab": {
          "base_uri": "https://localhost:8080/",
          "height": 873
        },
        "id": "XSJ8ovWj5Mlb",
        "outputId": "e833ae54-bdfc-4c8c-b637-46cd8c6be9d5"
      },
      "source": [
        "# Visualize Orders per User, Orders per Day of Week, Orders per Hour of Day, and Days Since Prior Order\n",
        "\n",
        "fig, axes = plt.subplots(2, 2, figsize=(14, 12))\n",
        "\n",
        "ax0 = axes[0, 0]\n",
        "ax0.hist(orders.user_id.value_counts(), bins = 100, color='steelblue')\n",
        "ax0.set_title('Orders per User')\n",
        "ax0.set_xlabel('Orders')\n",
        "ax0.set_ylabel('Users')\n",
        "\n",
        "ax1 = axes[0, 1]\n",
        "ax1.hist(orders.order_dow, bins=7, color='gray')\n",
        "ax1.set_title('Orders per Day of Week')\n",
        "ax1.set_xlabel('Day of Week')\n",
        "ax1.set_ylabel('Orders')\n",
        "\n",
        "ax2 = axes[1, 0]\n",
        "ax2.hist(orders.order_hour_of_day, bins = 24, color='darkslategray')\n",
        "ax2.set_title('Orders per Hour of Day')\n",
        "ax2.set_xlabel('Hour of Day')\n",
        "ax2.set_ylabel('Orders')\n",
        "\n",
        "ax3 = axes[1, 1]\n",
        "ax3.hist(orders.days_since_prior_order, bins = 30, color='darkgreen')\n",
        "ax3.set_title('Days Since Prior Order')\n",
        "ax3.set_xlabel('Lag in Days')\n",
        "ax3.set_ylabel('Orders')\n",
        "\n",
        "plt.tight_layout()\n",
        "plt.savefig('summary_visualizations_orders.png', dpi=300, pad_inches=0.5)\n",
        "plt.show()"
      ],
      "execution_count": 16,
      "outputs": [
        {
          "output_type": "display_data",
          "data": {
            "image/png": "[encoded data removed]",
            "text/plain": [
              "<Figure size 1008x864 with 4 Axes>"
            ]
          },
          "metadata": {
            "tags": [],
            "needs_background": "light"
          }
        }
      ]
    },
    {
      "cell_type": "markdown",
      "metadata": {
        "id": "7jXiepWI9PUV"
      },
      "source": [
        "### Orders per User"
      ]
    },
    {
      "cell_type": "code",
      "metadata": {
        "colab": {
          "base_uri": "https://localhost:8080/",
          "height": 621
        },
        "id": "F53M3fqn54TA",
        "outputId": "0ecd364e-e572-4df7-dc04-95538390ea1e"
      },
      "source": [
        "# Focus on Orders per User\n",
        "\n",
        "plt.figure(figsize = (12, 10))\n",
        "plt.hist(orders.user_id.value_counts(), bins = 100, color = 'steelblue')\n",
        "plt.axvline(orders.user_id.value_counts().mean(), color = 'lightgreen', linestyle = '--', label = 'Mean')\n",
        "plt.axvline(orders.user_id.value_counts().median(), color = 'orange', linestyle = '--', label = 'Median')\n",
        "plt.title('Orders per User')\n",
        "plt.xlabel('Users')\n",
        "plt.ylabel('Orders')\n",
        "plt.legend()\n",
        "sns.despine()\n",
        "plt.savefig('orders_per_user.png', dpi = 300, pad_inches = 0.5)\n",
        "plt.show()"
      ],
      "execution_count": 17,
      "outputs": [
        {
          "output_type": "display_data",
          "data": {
            "image/png": "[encoded data removed]",
            "text/plain": [
              "<Figure size 864x720 with 1 Axes>"
            ]
          },
          "metadata": {
            "tags": [],
            "needs_background": "light"
          }
        }
      ]
    },
    {
      "cell_type": "code",
      "metadata": {
        "colab": {
          "base_uri": "https://localhost:8080/"
        },
        "id": "aUXr64jh7vbw",
        "outputId": "c728c7f9-b0a0-4015-c97e-2217a3d3a2ae"
      },
      "source": [
        "# Print Mean and Median for Orders per Customer\n",
        "\n",
        "print('Mean orders per customer:', orders.user_id.value_counts().mean())\n",
        "print('Median orders per customer:', orders.user_id.value_counts().median())"
      ],
      "execution_count": 18,
      "outputs": [
        {
          "output_type": "stream",
          "text": [
            "Mean orders per customer: 16.590367054784224\n",
            "Median orders per customer: 10.0\n"
          ],
          "name": "stdout"
        }
      ]
    },
    {
      "cell_type": "markdown",
      "metadata": {
        "id": "v6b8h_E69UWj"
      },
      "source": [
        "### Orders per Day of Week"
      ]
    },
    {
      "cell_type": "code",
      "metadata": {
        "colab": {
          "base_uri": "https://localhost:8080/",
          "height": 621
        },
        "id": "BvE2OGpa72ho",
        "outputId": "8c6f2695-ce94-44e3-f491-0efd0b1d621d"
      },
      "source": [
        "# Focus on Orders per Day of Week\n",
        "\n",
        "plt.figure(figsize = (12, 10))\n",
        "plt.hist(orders.order_dow, bins = 7, color = 'gray')\n",
        "plt.axvline(orders.order_dow.mean(), color = 'lightgreen', linestyle = '--', label = 'Mean')\n",
        "plt.axvline(orders.order_dow.median(), color = 'orange', linestyle = '--', label = 'Median')\n",
        "plt.title('Orders by Day of Week')\n",
        "plt.xlabel('Day of Week')\n",
        "plt.ylabel('Orders')\n",
        "plt.legend()\n",
        "sns.despine()\n",
        "plt.savefig('orders_per_dow.png', dpi = 300, pad_inches = 0.5)\n",
        "plt.show()"
      ],
      "execution_count": 19,
      "outputs": [
        {
          "output_type": "display_data",
          "data": {
            "image/png": "[encoded data removed]",
            "text/plain": [
              "<Figure size 864x720 with 1 Axes>"
            ]
          },
          "metadata": {
            "tags": [],
            "needs_background": "light"
          }
        }
      ]
    },
    {
      "cell_type": "code",
      "metadata": {
        "colab": {
          "base_uri": "https://localhost:8080/"
        },
        "id": "VRmpC9dE8HMR",
        "outputId": "f5ae9ef3-4427-4c3e-91d3-cdfa9173140c"
      },
      "source": [
        "# Print Mean and Median for Day of Order\n",
        "\n",
        "print('Mean Day of Order:', orders.order_dow.mean())\n",
        "print('Median Day of Order:', orders.order_dow.median())"
      ],
      "execution_count": 20,
      "outputs": [
        {
          "output_type": "stream",
          "text": [
            "Mean Day of Order: 2.7762191095626734\n",
            "Median Day of Order: 3.0\n"
          ],
          "name": "stdout"
        }
      ]
    },
    {
      "cell_type": "markdown",
      "metadata": {
        "id": "TCsMADrJ9YcI"
      },
      "source": [
        "### Orders per Hour of Day"
      ]
    },
    {
      "cell_type": "code",
      "metadata": {
        "colab": {
          "base_uri": "https://localhost:8080/",
          "height": 621
        },
        "id": "6KLg5ro68N9N",
        "outputId": "f04eaece-78f9-4aeb-9467-ec4414fcec87"
      },
      "source": [
        "# Focus on Orders per Hour of Day\n",
        "\n",
        "plt.figure(figsize = (12, 10))\n",
        "plt.hist(orders.order_hour_of_day, bins = 24, color = 'darkslategray')\n",
        "plt.axvline(orders.order_hour_of_day.mean(), color = 'lightgreen', linestyle = '--', label = 'Mean')\n",
        "plt.axvline(orders.order_hour_of_day.median(), color = 'orange', linestyle = '--', label = 'Median')\n",
        "plt.title('Orders per Hour of Day')\n",
        "plt.xlabel('Hour of Day')\n",
        "plt.ylabel('Orders')\n",
        "plt.legend()\n",
        "sns.despine()\n",
        "plt.savefig('orders_per_hour.png', dpi = 300, pad_inches = 0.5)\n",
        "plt.show()"
      ],
      "execution_count": 21,
      "outputs": [
        {
          "output_type": "display_data",
          "data": {
            "image/png": "[encoded data removed]",
            "text/plain": [
              "<Figure size 864x720 with 1 Axes>"
            ]
          },
          "metadata": {
            "tags": [],
            "needs_background": "light"
          }
        }
      ]
    },
    {
      "cell_type": "code",
      "metadata": {
        "colab": {
          "base_uri": "https://localhost:8080/"
        },
        "id": "GiDJZaO58f9p",
        "outputId": "5d0dff81-341c-43ad-e4f7-4ca44d1d8313"
      },
      "source": [
        "# Print Mean and Median for Hour of Order\n",
        "\n",
        "print('Mean Hour of Order:', orders.order_hour_of_day.mean())\n",
        "print('Median Hour of Order:', orders.order_hour_of_day.median())"
      ],
      "execution_count": 22,
      "outputs": [
        {
          "output_type": "stream",
          "text": [
            "Mean Hour of Order: 13.45201534134074\n",
            "Median Hour of Order: 13.0\n"
          ],
          "name": "stdout"
        }
      ]
    },
    {
      "cell_type": "markdown",
      "metadata": {
        "id": "cGK4OCOy9b0j"
      },
      "source": [
        "### Days Since Prior Order"
      ]
    },
    {
      "cell_type": "code",
      "metadata": {
        "colab": {
          "base_uri": "https://localhost:8080/",
          "height": 621
        },
        "id": "BThSU1lO8m-8",
        "outputId": "05654812-5a22-4abb-a73f-c219a64e1d8e"
      },
      "source": [
        "# Focus on Days Since Prior Order\n",
        "\n",
        "plt.figure(figsize = (12, 10))\n",
        "plt.hist(orders.days_since_prior_order, bins = 30, color = 'darkgreen')\n",
        "plt.axvline(orders.days_since_prior_order.mean(), color = 'lightgreen', linestyle = '--', label = 'Mean')\n",
        "plt.axvline(orders.days_since_prior_order.median(), color = 'orange', linestyle = '--', label = 'Median')\n",
        "plt.title('Days Since Prior Order')\n",
        "plt.xlabel('Days Since Prior Order')\n",
        "plt.ylabel('Orders')\n",
        "plt.legend()\n",
        "sns.despine()\n",
        "plt.savefig('days_since_prior_order.png', dpi = 300, pad_inches = 0.5)\n",
        "plt.show()"
      ],
      "execution_count": 23,
      "outputs": [
        {
          "output_type": "display_data",
          "data": {
            "image/png": "[encoded data removed]",
            "text/plain": [
              "<Figure size 864x720 with 1 Axes>"
            ]
          },
          "metadata": {
            "tags": [],
            "needs_background": "light"
          }
        }
      ]
    },
    {
      "cell_type": "code",
      "metadata": {
        "colab": {
          "base_uri": "https://localhost:8080/"
        },
        "id": "krKD7FXP86D7",
        "outputId": "e7385e23-f114-486c-c464-c2538490c9d8"
      },
      "source": [
        "# Print Mean and Median for Days Since Prior Order\n",
        "\n",
        "print('Mean Days Since Prior Order:', orders.days_since_prior_order.mean())\n",
        "print('Median Days Since Prior Order:', orders.days_since_prior_order.median())"
      ],
      "execution_count": 24,
      "outputs": [
        {
          "output_type": "stream",
          "text": [
            "Mean Days Since Prior Order: 11.114836226863012\n",
            "Median Days Since Prior Order: 7.0\n"
          ],
          "name": "stdout"
        }
      ]
    },
    {
      "cell_type": "markdown",
      "metadata": {
        "id": "GM1XuuJA9fqn"
      },
      "source": [
        "## Explore Products Table"
      ]
    },
    {
      "cell_type": "code",
      "metadata": {
        "id": "jBpWxOyx9Aoa"
      },
      "source": [
        "# Create dataframe from products csv file\n",
        "\n",
        "products = pd.read_csv('/content/drive/MyDrive/archive/products.csv')"
      ],
      "execution_count": 25,
      "outputs": []
    },
    {
      "cell_type": "code",
      "metadata": {
        "colab": {
          "base_uri": "https://localhost:8080/",
          "height": 204
        },
        "id": "-mLM78v-9pw7",
        "outputId": "407ea521-794b-445d-a213-44088ef509c0"
      },
      "source": [
        "# Look at layout of products table\n",
        "\n",
        "products.head()"
      ],
      "execution_count": 26,
      "outputs": [
        {
          "output_type": "execute_result",
          "data": {
            "text/html": [
              "<div>\n",
              "<style scoped>\n",
              "    .dataframe tbody tr th:only-of-type {\n",
              "        vertical-align: middle;\n",
              "    }\n",
              "\n",
              "    .dataframe tbody tr th {\n",
              "        vertical-align: top;\n",
              "    }\n",
              "\n",
              "    .dataframe thead th {\n",
              "        text-align: right;\n",
              "    }\n",
              "</style>\n",
              "<table border=\"1\" class=\"dataframe\">\n",
              "  <thead>\n",
              "    <tr style=\"text-align: right;\">\n",
              "      <th></th>\n",
              "      <th>product_id</th>\n",
              "      <th>product_name</th>\n",
              "      <th>aisle_id</th>\n",
              "      <th>department_id</th>\n",
              "    </tr>\n",
              "  </thead>\n",
              "  <tbody>\n",
              "    <tr>\n",
              "      <th>0</th>\n",
              "      <td>1</td>\n",
              "      <td>Chocolate Sandwich Cookies</td>\n",
              "      <td>61</td>\n",
              "      <td>19</td>\n",
              "    </tr>\n",
              "    <tr>\n",
              "      <th>1</th>\n",
              "      <td>2</td>\n",
              "      <td>All-Seasons Salt</td>\n",
              "      <td>104</td>\n",
              "      <td>13</td>\n",
              "    </tr>\n",
              "    <tr>\n",
              "      <th>2</th>\n",
              "      <td>3</td>\n",
              "      <td>Robust Golden Unsweetened Oolong Tea</td>\n",
              "      <td>94</td>\n",
              "      <td>7</td>\n",
              "    </tr>\n",
              "    <tr>\n",
              "      <th>3</th>\n",
              "      <td>4</td>\n",
              "      <td>Smart Ones Classic Favorites Mini Rigatoni Wit...</td>\n",
              "      <td>38</td>\n",
              "      <td>1</td>\n",
              "    </tr>\n",
              "    <tr>\n",
              "      <th>4</th>\n",
              "      <td>5</td>\n",
              "      <td>Green Chile Anytime Sauce</td>\n",
              "      <td>5</td>\n",
              "      <td>13</td>\n",
              "    </tr>\n",
              "  </tbody>\n",
              "</table>\n",
              "</div>"
            ],
            "text/plain": [
              "   product_id  ... department_id\n",
              "0           1  ...            19\n",
              "1           2  ...            13\n",
              "2           3  ...             7\n",
              "3           4  ...             1\n",
              "4           5  ...            13\n",
              "\n",
              "[5 rows x 4 columns]"
            ]
          },
          "metadata": {
            "tags": []
          },
          "execution_count": 26
        }
      ]
    },
    {
      "cell_type": "code",
      "metadata": {
        "colab": {
          "base_uri": "https://localhost:8080/"
        },
        "id": "elyi5RQc9yGw",
        "outputId": "803b69e4-ee33-4911-a042-e7c50a3c38a7"
      },
      "source": [
        "# Info on data in products table\n",
        "\n",
        "products.info()"
      ],
      "execution_count": 27,
      "outputs": [
        {
          "output_type": "stream",
          "text": [
            "<class 'pandas.core.frame.DataFrame'>\n",
            "RangeIndex: 49688 entries, 0 to 49687\n",
            "Data columns (total 4 columns):\n",
            " #   Column         Non-Null Count  Dtype \n",
            "---  ------         --------------  ----- \n",
            " 0   product_id     49688 non-null  int64 \n",
            " 1   product_name   49688 non-null  object\n",
            " 2   aisle_id       49688 non-null  int64 \n",
            " 3   department_id  49688 non-null  int64 \n",
            "dtypes: int64(3), object(1)\n",
            "memory usage: 1.5+ MB\n"
          ],
          "name": "stdout"
        }
      ]
    },
    {
      "cell_type": "code",
      "metadata": {
        "colab": {
          "base_uri": "https://localhost:8080/",
          "height": 729
        },
        "id": "HUk7IRXO-SAJ",
        "outputId": "ec071fd8-27f2-4f7e-cf70-d34dea28c27a"
      },
      "source": [
        "# Explore Products by Aisle and Department\n",
        "\n",
        "fig, axes = plt.subplots(1, 2, figsize = (12, 10))\n",
        "\n",
        "ax0 = axes[0]\n",
        "ax0.hist(products.aisle_id, color='steelblue')\n",
        "ax0.set_title('Number of Products per Aisle')\n",
        "ax0.set_xlabel('Aisle')\n",
        "ax0.set_ylabel('Products')\n",
        "\n",
        "ax1 = axes[1]\n",
        "ax1.hist(products.department_id, color='gray')\n",
        "ax1.set_title('Number of Products per Department')\n",
        "ax1.set_xlabel('Department')\n",
        "ax1.set_ylabel('Products')\n",
        "\n",
        "plt.tight_layout()\n",
        "plt.savefig('products_by_aisle_department.png', dpi=300, pad_inches=0.5)\n",
        "plt.show()"
      ],
      "execution_count": 28,
      "outputs": [
        {
          "output_type": "display_data",
          "data": {
            "image/png": "[encoded data removed]",
            "text/plain": [
              "<Figure size 864x720 with 2 Axes>"
            ]
          },
          "metadata": {
            "tags": [],
            "needs_background": "light"
          }
        }
      ]
    },
    {
      "cell_type": "markdown",
      "metadata": {
        "id": "8EnJtGQg_UMw"
      },
      "source": [
        "## Explore Order Products Prior Table"
      ]
    },
    {
      "cell_type": "code",
      "metadata": {
        "id": "YoszLAWh-2pm"
      },
      "source": [
        "# Create dataframe from order_products_prior csv file\n",
        "\n",
        "order_products_prior = pd.read_csv('/content/drive/MyDrive/archive/order_products__prior.csv')"
      ],
      "execution_count": 29,
      "outputs": []
    },
    {
      "cell_type": "code",
      "metadata": {
        "colab": {
          "base_uri": "https://localhost:8080/",
          "height": 204
        },
        "id": "mkpaNDed_fuE",
        "outputId": "75e6c5ae-28a6-49e8-b4ab-f7b9928b05c6"
      },
      "source": [
        "# Look at layout of order_products_prior table\n",
        "\n",
        "order_products_prior.head()"
      ],
      "execution_count": 30,
      "outputs": [
        {
          "output_type": "execute_result",
          "data": {
            "text/html": [
              "<div>\n",
              "<style scoped>\n",
              "    .dataframe tbody tr th:only-of-type {\n",
              "        vertical-align: middle;\n",
              "    }\n",
              "\n",
              "    .dataframe tbody tr th {\n",
              "        vertical-align: top;\n",
              "    }\n",
              "\n",
              "    .dataframe thead th {\n",
              "        text-align: right;\n",
              "    }\n",
              "</style>\n",
              "<table border=\"1\" class=\"dataframe\">\n",
              "  <thead>\n",
              "    <tr style=\"text-align: right;\">\n",
              "      <th></th>\n",
              "      <th>order_id</th>\n",
              "      <th>product_id</th>\n",
              "      <th>add_to_cart_order</th>\n",
              "      <th>reordered</th>\n",
              "    </tr>\n",
              "  </thead>\n",
              "  <tbody>\n",
              "    <tr>\n",
              "      <th>0</th>\n",
              "      <td>2</td>\n",
              "      <td>33120</td>\n",
              "      <td>1</td>\n",
              "      <td>1</td>\n",
              "    </tr>\n",
              "    <tr>\n",
              "      <th>1</th>\n",
              "      <td>2</td>\n",
              "      <td>28985</td>\n",
              "      <td>2</td>\n",
              "      <td>1</td>\n",
              "    </tr>\n",
              "    <tr>\n",
              "      <th>2</th>\n",
              "      <td>2</td>\n",
              "      <td>9327</td>\n",
              "      <td>3</td>\n",
              "      <td>0</td>\n",
              "    </tr>\n",
              "    <tr>\n",
              "      <th>3</th>\n",
              "      <td>2</td>\n",
              "      <td>45918</td>\n",
              "      <td>4</td>\n",
              "      <td>1</td>\n",
              "    </tr>\n",
              "    <tr>\n",
              "      <th>4</th>\n",
              "      <td>2</td>\n",
              "      <td>30035</td>\n",
              "      <td>5</td>\n",
              "      <td>0</td>\n",
              "    </tr>\n",
              "  </tbody>\n",
              "</table>\n",
              "</div>"
            ],
            "text/plain": [
              "   order_id  product_id  add_to_cart_order  reordered\n",
              "0         2       33120                  1          1\n",
              "1         2       28985                  2          1\n",
              "2         2        9327                  3          0\n",
              "3         2       45918                  4          1\n",
              "4         2       30035                  5          0"
            ]
          },
          "metadata": {
            "tags": []
          },
          "execution_count": 30
        }
      ]
    },
    {
      "cell_type": "code",
      "metadata": {
        "colab": {
          "base_uri": "https://localhost:8080/"
        },
        "id": "-yQUCKn8_zCA",
        "outputId": "4d34ae5c-a12d-4a79-aaf9-1f4805581128"
      },
      "source": [
        "# Info on data in order_products_prior table\n",
        "\n",
        "order_products_prior.info()"
      ],
      "execution_count": 31,
      "outputs": [
        {
          "output_type": "stream",
          "text": [
            "<class 'pandas.core.frame.DataFrame'>\n",
            "RangeIndex: 32434489 entries, 0 to 32434488\n",
            "Data columns (total 4 columns):\n",
            " #   Column             Dtype\n",
            "---  ------             -----\n",
            " 0   order_id           int64\n",
            " 1   product_id         int64\n",
            " 2   add_to_cart_order  int64\n",
            " 3   reordered          int64\n",
            "dtypes: int64(4)\n",
            "memory usage: 989.8 MB\n"
          ],
          "name": "stdout"
        }
      ]
    },
    {
      "cell_type": "code",
      "metadata": {
        "colab": {
          "base_uri": "https://localhost:8080/",
          "height": 297
        },
        "id": "DGb43GSA_-J6",
        "outputId": "6bbc09d7-cd68-4727-959e-a8d702c1fa00"
      },
      "source": [
        "# Summary stats on order_products_prior table. Use lambda function to convert from scientific notation to float.\n",
        "\n",
        "order_products_prior.describe().apply(lambda s: s.apply('{0:.3f}'.format))"
      ],
      "execution_count": 32,
      "outputs": [
        {
          "output_type": "execute_result",
          "data": {
            "text/html": [
              "<div>\n",
              "<style scoped>\n",
              "    .dataframe tbody tr th:only-of-type {\n",
              "        vertical-align: middle;\n",
              "    }\n",
              "\n",
              "    .dataframe tbody tr th {\n",
              "        vertical-align: top;\n",
              "    }\n",
              "\n",
              "    .dataframe thead th {\n",
              "        text-align: right;\n",
              "    }\n",
              "</style>\n",
              "<table border=\"1\" class=\"dataframe\">\n",
              "  <thead>\n",
              "    <tr style=\"text-align: right;\">\n",
              "      <th></th>\n",
              "      <th>order_id</th>\n",
              "      <th>product_id</th>\n",
              "      <th>add_to_cart_order</th>\n",
              "      <th>reordered</th>\n",
              "    </tr>\n",
              "  </thead>\n",
              "  <tbody>\n",
              "    <tr>\n",
              "      <th>count</th>\n",
              "      <td>32434489.000</td>\n",
              "      <td>32434489.000</td>\n",
              "      <td>32434489.000</td>\n",
              "      <td>32434489.000</td>\n",
              "    </tr>\n",
              "    <tr>\n",
              "      <th>mean</th>\n",
              "      <td>1710748.519</td>\n",
              "      <td>25576.338</td>\n",
              "      <td>8.351</td>\n",
              "      <td>0.590</td>\n",
              "    </tr>\n",
              "    <tr>\n",
              "      <th>std</th>\n",
              "      <td>987300.696</td>\n",
              "      <td>14096.689</td>\n",
              "      <td>7.127</td>\n",
              "      <td>0.492</td>\n",
              "    </tr>\n",
              "    <tr>\n",
              "      <th>min</th>\n",
              "      <td>2.000</td>\n",
              "      <td>1.000</td>\n",
              "      <td>1.000</td>\n",
              "      <td>0.000</td>\n",
              "    </tr>\n",
              "    <tr>\n",
              "      <th>25%</th>\n",
              "      <td>855943.000</td>\n",
              "      <td>13530.000</td>\n",
              "      <td>3.000</td>\n",
              "      <td>0.000</td>\n",
              "    </tr>\n",
              "    <tr>\n",
              "      <th>50%</th>\n",
              "      <td>1711048.000</td>\n",
              "      <td>25256.000</td>\n",
              "      <td>6.000</td>\n",
              "      <td>1.000</td>\n",
              "    </tr>\n",
              "    <tr>\n",
              "      <th>75%</th>\n",
              "      <td>2565514.000</td>\n",
              "      <td>37935.000</td>\n",
              "      <td>11.000</td>\n",
              "      <td>1.000</td>\n",
              "    </tr>\n",
              "    <tr>\n",
              "      <th>max</th>\n",
              "      <td>3421083.000</td>\n",
              "      <td>49688.000</td>\n",
              "      <td>145.000</td>\n",
              "      <td>1.000</td>\n",
              "    </tr>\n",
              "  </tbody>\n",
              "</table>\n",
              "</div>"
            ],
            "text/plain": [
              "           order_id    product_id add_to_cart_order     reordered\n",
              "count  32434489.000  32434489.000      32434489.000  32434489.000\n",
              "mean    1710748.519     25576.338             8.351         0.590\n",
              "std      987300.696     14096.689             7.127         0.492\n",
              "min           2.000         1.000             1.000         0.000\n",
              "25%      855943.000     13530.000             3.000         0.000\n",
              "50%     1711048.000     25256.000             6.000         1.000\n",
              "75%     2565514.000     37935.000            11.000         1.000\n",
              "max     3421083.000     49688.000           145.000         1.000"
            ]
          },
          "metadata": {
            "tags": []
          },
          "execution_count": 32
        }
      ]
    },
    {
      "cell_type": "code",
      "metadata": {
        "colab": {
          "base_uri": "https://localhost:8080/",
          "height": 730
        },
        "id": "Gs3Ln98SAQVE",
        "outputId": "b3b272e5-debb-44c2-9095-3a1e802b2223"
      },
      "source": [
        "# Visualize distribution of number of products per order\n",
        "\n",
        "plt.figure(figsize = (14, 12))\n",
        "plt.hist(order_products_prior.order_id.value_counts(), bins = 30, color = 'steelblue')\n",
        "plt.axvline(order_products_prior.order_id.value_counts().mean(), color = 'lightgreen', linestyle = '--', label = 'Mean')\n",
        "plt.axvline(order_products_prior.order_id.value_counts().median(), color = 'orange', linestyle = '--', label = 'Median')\n",
        "plt.title('Number of Products per Order')\n",
        "plt.xlabel('Number of Items in Order')\n",
        "plt.ylabel('Number of Orders')\n",
        "plt.yticks([0, 0.2e6, 0.4e6, 0.6e6, 0.8e6, 1.0e6], ['0', '200k', '400k', '600k', '800k', '1M'])\n",
        "plt.legend()\n",
        "sns.despine()\n",
        "plt.savefig('products_per_order.png', dpi=300, pad_inches=0.5)\n",
        "plt.show()"
      ],
      "execution_count": 33,
      "outputs": [
        {
          "output_type": "display_data",
          "data": {
            "image/png": "[encoded data removed]",
            "text/plain": [
              "<Figure size 1008x864 with 1 Axes>"
            ]
          },
          "metadata": {
            "tags": [],
            "needs_background": "light"
          }
        }
      ]
    },
    {
      "cell_type": "code",
      "metadata": {
        "id": "TF7eb1mcEE9i",
        "colab": {
          "base_uri": "https://localhost:8080/"
        },
        "outputId": "2df2d470-f5c5-4aaa-e7da-dbaf08718d55"
      },
      "source": [
        "# Total number of orders\n",
        "\n",
        "len(order_products_prior.order_id.value_counts())"
      ],
      "execution_count": 34,
      "outputs": [
        {
          "output_type": "execute_result",
          "data": {
            "text/plain": [
              "3214874"
            ]
          },
          "metadata": {
            "tags": []
          },
          "execution_count": 34
        }
      ]
    },
    {
      "cell_type": "code",
      "metadata": {
        "id": "hpTLGwPam3mn"
      },
      "source": [
        "# Use SQL to aggregate number of products per order\n",
        "\n",
        "conn = sqlite3.connect('aisles_database.db')\n",
        "order_products_prior.to_sql('order_products_prior', conn)\n",
        "order_products_query = '''\n",
        "  SELECT order_id, COUNT(product_id) AS product_total\n",
        "  FROM order_products_prior\n",
        "  GROUP BY order_id;\n",
        "  '''"
      ],
      "execution_count": 35,
      "outputs": []
    },
    {
      "cell_type": "code",
      "metadata": {
        "colab": {
          "base_uri": "https://localhost:8080/",
          "height": 204
        },
        "id": "-uGSpY73oA98",
        "outputId": "7822c7ed-759f-4010-f4a7-fc414705de98"
      },
      "source": [
        "# Transform back into dataframe and view \n",
        "\n",
        "order_sizes_df = pd.read_sql(order_products_query, conn)\n",
        "order_sizes_df.head()"
      ],
      "execution_count": 36,
      "outputs": [
        {
          "output_type": "execute_result",
          "data": {
            "text/html": [
              "<div>\n",
              "<style scoped>\n",
              "    .dataframe tbody tr th:only-of-type {\n",
              "        vertical-align: middle;\n",
              "    }\n",
              "\n",
              "    .dataframe tbody tr th {\n",
              "        vertical-align: top;\n",
              "    }\n",
              "\n",
              "    .dataframe thead th {\n",
              "        text-align: right;\n",
              "    }\n",
              "</style>\n",
              "<table border=\"1\" class=\"dataframe\">\n",
              "  <thead>\n",
              "    <tr style=\"text-align: right;\">\n",
              "      <th></th>\n",
              "      <th>order_id</th>\n",
              "      <th>product_total</th>\n",
              "    </tr>\n",
              "  </thead>\n",
              "  <tbody>\n",
              "    <tr>\n",
              "      <th>0</th>\n",
              "      <td>2</td>\n",
              "      <td>9</td>\n",
              "    </tr>\n",
              "    <tr>\n",
              "      <th>1</th>\n",
              "      <td>3</td>\n",
              "      <td>8</td>\n",
              "    </tr>\n",
              "    <tr>\n",
              "      <th>2</th>\n",
              "      <td>4</td>\n",
              "      <td>13</td>\n",
              "    </tr>\n",
              "    <tr>\n",
              "      <th>3</th>\n",
              "      <td>5</td>\n",
              "      <td>26</td>\n",
              "    </tr>\n",
              "    <tr>\n",
              "      <th>4</th>\n",
              "      <td>6</td>\n",
              "      <td>3</td>\n",
              "    </tr>\n",
              "  </tbody>\n",
              "</table>\n",
              "</div>"
            ],
            "text/plain": [
              "   order_id  product_total\n",
              "0         2              9\n",
              "1         3              8\n",
              "2         4             13\n",
              "3         5             26\n",
              "4         6              3"
            ]
          },
          "metadata": {
            "tags": []
          },
          "execution_count": 36
        }
      ]
    },
    {
      "cell_type": "code",
      "metadata": {
        "colab": {
          "base_uri": "https://localhost:8080/"
        },
        "id": "wK43kj_wokJX",
        "outputId": "6a7db931-98a9-4f6a-b77d-787b7cc2d592"
      },
      "source": [
        "# Confirm that the total number of orders is still the same\n",
        "\n",
        "len(order_sizes_df)"
      ],
      "execution_count": 37,
      "outputs": [
        {
          "output_type": "execute_result",
          "data": {
            "text/plain": [
              "3214874"
            ]
          },
          "metadata": {
            "tags": []
          },
          "execution_count": 37
        }
      ]
    },
    {
      "cell_type": "code",
      "metadata": {
        "colab": {
          "base_uri": "https://localhost:8080/",
          "height": 621
        },
        "id": "sfkje3P_o85X",
        "outputId": "dbf39ed5-fa38-4a56-9dc5-12d157312d83"
      },
      "source": [
        "#Visualize Number of Products per Order\n",
        "\n",
        "plt.figure(figsize = (12, 10))\n",
        "plt.hist(order_sizes_df.product_total, bins = 30, color = 'steelblue')\n",
        "plt.axvline(order_sizes_df.product_total.mean(), color = 'lightgreen', linestyle = '--', label = 'Mean')\n",
        "plt.axvline(order_sizes_df.product_total.median(), color = 'orange', linestyle = '--', label = 'Median')\n",
        "plt.title('Number of Products per Order')\n",
        "plt.xlabel('Number of Products')\n",
        "plt.ylabel('Orders')\n",
        "plt.yticks([0, 0.2e6, 0.4e6, 0.6e6, 0.8e6, 1.0e6], ['0', '200k', '400k', '600k', '800k', '1M'])\n",
        "plt.legend()\n",
        "sns.despine()\n",
        "plt.savefig('number_products_per_order_prior.png', dpi = 300, pad_inches = 0.5)\n",
        "plt.show()"
      ],
      "execution_count": 39,
      "outputs": [
        {
          "output_type": "display_data",
          "data": {
            "image/png": "[encoded data removed]",
            "text/plain": [
              "<Figure size 864x720 with 1 Axes>"
            ]
          },
          "metadata": {
            "tags": [],
            "needs_background": "light"
          }
        }
      ]
    },
    {
      "cell_type": "code",
      "metadata": {
        "colab": {
          "base_uri": "https://localhost:8080/"
        },
        "id": "sveTghXQpcI4",
        "outputId": "9a5ea69b-aa36-437c-ba41-a5435fbc3c46"
      },
      "source": [
        "# Print Mean and Median of Products per Order\n",
        "\n",
        "print(\"Mean number of products per order:\", order_sizes_df.product_total.mean())\n",
        "print(\"Median number of products per order:\", order_sizes_df.product_total.median())"
      ],
      "execution_count": 40,
      "outputs": [
        {
          "output_type": "stream",
          "text": [
            "Mean number of products per order: 10.088883421247614\n",
            "Median number of products per order: 8.0\n"
          ],
          "name": "stdout"
        }
      ]
    },
    {
      "cell_type": "code",
      "metadata": {
        "colab": {
          "base_uri": "https://localhost:8080/",
          "height": 621
        },
        "id": "574lhUYXp7lP",
        "outputId": "2a83eb7b-e1db-419f-d654-bddb3b41b9f5"
      },
      "source": [
        "# Visualize Reorder Rate per Order\n",
        "\n",
        "plt.figure(figsize = (12, 10))\n",
        "plt.hist(order_products_prior.groupby('order_id')['reordered'].mean(), color='steelblue')\n",
        "plt.axvline(order_products_prior.reordered.mean(), color = 'lightgreen', linestyle = '--', label = 'Mean')\n",
        "plt.axvline(order_products_prior.reordered.median(), color = 'orange', linestyle = '--', label = 'Median')\n",
        "plt.title('Reorder Rate per Order')\n",
        "plt.xlabel('Reorder Rate')\n",
        "plt.ylabel('Orders')\n",
        "plt.legend()\n",
        "sns.despine()\n",
        "plt.savefig('reorder_rate_per_order.png', dpi=300, pad_inches=0.5)\n",
        "plt.show()"
      ],
      "execution_count": 62,
      "outputs": [
        {
          "output_type": "display_data",
          "data": {
            "image/png": "[encoded data removed]",
            "text/plain": [
              "<Figure size 864x720 with 1 Axes>"
            ]
          },
          "metadata": {
            "tags": [],
            "needs_background": "light"
          }
        }
      ]
    },
    {
      "cell_type": "code",
      "metadata": {
        "colab": {
          "base_uri": "https://localhost:8080/"
        },
        "id": "LOfJH-SkqwkR",
        "outputId": "3ac9640a-8aa5-4a7e-ec50-fe72d16ebc41"
      },
      "source": [
        "# Print Mean and Median of Reorder Rate per Order\n",
        "\n",
        "print(\"Mean number of products per order:\", order_products_prior.reordered.mean())\n",
        "print(\"Median number of products per order:\", order_products_prior.reordered.median())"
      ],
      "execution_count": 43,
      "outputs": [
        {
          "output_type": "stream",
          "text": [
            "Mean number of products per order: 0.5896974667922161\n",
            "Median number of products per order: 1.0\n"
          ],
          "name": "stdout"
        }
      ]
    },
    {
      "cell_type": "markdown",
      "metadata": {
        "id": "PJYDnNlAryHy"
      },
      "source": [
        "## Explore Order Products Train Table"
      ]
    },
    {
      "cell_type": "code",
      "metadata": {
        "id": "PHYN-WxSrVvr"
      },
      "source": [
        "# Create dataframe from order_products_train csv file\n",
        "\n",
        "order_products_train = pd.read_csv('/content/drive/MyDrive/archive/order_products__train.csv')"
      ],
      "execution_count": 44,
      "outputs": []
    },
    {
      "cell_type": "code",
      "metadata": {
        "colab": {
          "base_uri": "https://localhost:8080/",
          "height": 204
        },
        "id": "HQfsgTR1r-cy",
        "outputId": "7f323d3d-735f-45aa-bff5-0caeab7c6017"
      },
      "source": [
        "# Look at layout of order_products_train table\n",
        "\n",
        "order_products_train.head()"
      ],
      "execution_count": 45,
      "outputs": [
        {
          "output_type": "execute_result",
          "data": {
            "text/html": [
              "<div>\n",
              "<style scoped>\n",
              "    .dataframe tbody tr th:only-of-type {\n",
              "        vertical-align: middle;\n",
              "    }\n",
              "\n",
              "    .dataframe tbody tr th {\n",
              "        vertical-align: top;\n",
              "    }\n",
              "\n",
              "    .dataframe thead th {\n",
              "        text-align: right;\n",
              "    }\n",
              "</style>\n",
              "<table border=\"1\" class=\"dataframe\">\n",
              "  <thead>\n",
              "    <tr style=\"text-align: right;\">\n",
              "      <th></th>\n",
              "      <th>order_id</th>\n",
              "      <th>product_id</th>\n",
              "      <th>add_to_cart_order</th>\n",
              "      <th>reordered</th>\n",
              "    </tr>\n",
              "  </thead>\n",
              "  <tbody>\n",
              "    <tr>\n",
              "      <th>0</th>\n",
              "      <td>1</td>\n",
              "      <td>49302</td>\n",
              "      <td>1</td>\n",
              "      <td>1</td>\n",
              "    </tr>\n",
              "    <tr>\n",
              "      <th>1</th>\n",
              "      <td>1</td>\n",
              "      <td>11109</td>\n",
              "      <td>2</td>\n",
              "      <td>1</td>\n",
              "    </tr>\n",
              "    <tr>\n",
              "      <th>2</th>\n",
              "      <td>1</td>\n",
              "      <td>10246</td>\n",
              "      <td>3</td>\n",
              "      <td>0</td>\n",
              "    </tr>\n",
              "    <tr>\n",
              "      <th>3</th>\n",
              "      <td>1</td>\n",
              "      <td>49683</td>\n",
              "      <td>4</td>\n",
              "      <td>0</td>\n",
              "    </tr>\n",
              "    <tr>\n",
              "      <th>4</th>\n",
              "      <td>1</td>\n",
              "      <td>43633</td>\n",
              "      <td>5</td>\n",
              "      <td>1</td>\n",
              "    </tr>\n",
              "  </tbody>\n",
              "</table>\n",
              "</div>"
            ],
            "text/plain": [
              "   order_id  product_id  add_to_cart_order  reordered\n",
              "0         1       49302                  1          1\n",
              "1         1       11109                  2          1\n",
              "2         1       10246                  3          0\n",
              "3         1       49683                  4          0\n",
              "4         1       43633                  5          1"
            ]
          },
          "metadata": {
            "tags": []
          },
          "execution_count": 45
        }
      ]
    },
    {
      "cell_type": "code",
      "metadata": {
        "colab": {
          "base_uri": "https://localhost:8080/"
        },
        "id": "a879U204sJgq",
        "outputId": "b1529779-152b-4866-e151-d9da60b38b9d"
      },
      "source": [
        "# Info on data in order_products_train table\n",
        "\n",
        "order_products_train.info()"
      ],
      "execution_count": 46,
      "outputs": [
        {
          "output_type": "stream",
          "text": [
            "<class 'pandas.core.frame.DataFrame'>\n",
            "RangeIndex: 1384617 entries, 0 to 1384616\n",
            "Data columns (total 4 columns):\n",
            " #   Column             Non-Null Count    Dtype\n",
            "---  ------             --------------    -----\n",
            " 0   order_id           1384617 non-null  int64\n",
            " 1   product_id         1384617 non-null  int64\n",
            " 2   add_to_cart_order  1384617 non-null  int64\n",
            " 3   reordered          1384617 non-null  int64\n",
            "dtypes: int64(4)\n",
            "memory usage: 42.3 MB\n"
          ],
          "name": "stdout"
        }
      ]
    },
    {
      "cell_type": "code",
      "metadata": {
        "colab": {
          "base_uri": "https://localhost:8080/",
          "height": 297
        },
        "id": "tQJCnuaLsRSS",
        "outputId": "a0c61526-9b23-4754-f5d7-d9f4d437912b"
      },
      "source": [
        "# Summary stats on order_products_train table. Use lambda function to convert from scientific notation to float.\n",
        "\n",
        "order_products_train.describe().apply(lambda s: s.apply('{0:.3f}'.format))"
      ],
      "execution_count": 47,
      "outputs": [
        {
          "output_type": "execute_result",
          "data": {
            "text/html": [
              "<div>\n",
              "<style scoped>\n",
              "    .dataframe tbody tr th:only-of-type {\n",
              "        vertical-align: middle;\n",
              "    }\n",
              "\n",
              "    .dataframe tbody tr th {\n",
              "        vertical-align: top;\n",
              "    }\n",
              "\n",
              "    .dataframe thead th {\n",
              "        text-align: right;\n",
              "    }\n",
              "</style>\n",
              "<table border=\"1\" class=\"dataframe\">\n",
              "  <thead>\n",
              "    <tr style=\"text-align: right;\">\n",
              "      <th></th>\n",
              "      <th>order_id</th>\n",
              "      <th>product_id</th>\n",
              "      <th>add_to_cart_order</th>\n",
              "      <th>reordered</th>\n",
              "    </tr>\n",
              "  </thead>\n",
              "  <tbody>\n",
              "    <tr>\n",
              "      <th>count</th>\n",
              "      <td>1384617.000</td>\n",
              "      <td>1384617.000</td>\n",
              "      <td>1384617.000</td>\n",
              "      <td>1384617.000</td>\n",
              "    </tr>\n",
              "    <tr>\n",
              "      <th>mean</th>\n",
              "      <td>1706297.621</td>\n",
              "      <td>25556.236</td>\n",
              "      <td>8.758</td>\n",
              "      <td>0.599</td>\n",
              "    </tr>\n",
              "    <tr>\n",
              "      <th>std</th>\n",
              "      <td>989732.649</td>\n",
              "      <td>14121.272</td>\n",
              "      <td>7.424</td>\n",
              "      <td>0.490</td>\n",
              "    </tr>\n",
              "    <tr>\n",
              "      <th>min</th>\n",
              "      <td>1.000</td>\n",
              "      <td>1.000</td>\n",
              "      <td>1.000</td>\n",
              "      <td>0.000</td>\n",
              "    </tr>\n",
              "    <tr>\n",
              "      <th>25%</th>\n",
              "      <td>843370.000</td>\n",
              "      <td>13380.000</td>\n",
              "      <td>3.000</td>\n",
              "      <td>0.000</td>\n",
              "    </tr>\n",
              "    <tr>\n",
              "      <th>50%</th>\n",
              "      <td>1701880.000</td>\n",
              "      <td>25298.000</td>\n",
              "      <td>7.000</td>\n",
              "      <td>1.000</td>\n",
              "    </tr>\n",
              "    <tr>\n",
              "      <th>75%</th>\n",
              "      <td>2568023.000</td>\n",
              "      <td>37940.000</td>\n",
              "      <td>12.000</td>\n",
              "      <td>1.000</td>\n",
              "    </tr>\n",
              "    <tr>\n",
              "      <th>max</th>\n",
              "      <td>3421070.000</td>\n",
              "      <td>49688.000</td>\n",
              "      <td>80.000</td>\n",
              "      <td>1.000</td>\n",
              "    </tr>\n",
              "  </tbody>\n",
              "</table>\n",
              "</div>"
            ],
            "text/plain": [
              "          order_id   product_id add_to_cart_order    reordered\n",
              "count  1384617.000  1384617.000       1384617.000  1384617.000\n",
              "mean   1706297.621    25556.236             8.758        0.599\n",
              "std     989732.649    14121.272             7.424        0.490\n",
              "min          1.000        1.000             1.000        0.000\n",
              "25%     843370.000    13380.000             3.000        0.000\n",
              "50%    1701880.000    25298.000             7.000        1.000\n",
              "75%    2568023.000    37940.000            12.000        1.000\n",
              "max    3421070.000    49688.000            80.000        1.000"
            ]
          },
          "metadata": {
            "tags": []
          },
          "execution_count": 47
        }
      ]
    },
    {
      "cell_type": "code",
      "metadata": {
        "colab": {
          "base_uri": "https://localhost:8080/",
          "height": 730
        },
        "id": "wZs26CTbsjJE",
        "outputId": "a1648581-265a-4977-a1a6-74b08d327b37"
      },
      "source": [
        "# Visualize distribution of number of products per order for train table\n",
        "\n",
        "plt.figure(figsize = (14, 12))\n",
        "plt.hist(order_products_train.order_id.value_counts(), bins = 30, color = 'steelblue')\n",
        "plt.axvline(order_products_train.order_id.value_counts().mean(), color = 'lightgreen', linestyle = '--', label = 'Mean')\n",
        "plt.axvline(order_products_train.order_id.value_counts().median(), color = 'orange', linestyle = '--', label = 'Median')\n",
        "plt.title('Number of Products per Order for Train Table')\n",
        "plt.xlabel('Number of Items in Order')\n",
        "plt.ylabel('Number of Orders')\n",
        "plt.legend()\n",
        "sns.despine()\n",
        "plt.savefig('number_products_per_order_train.png', dpi=300, pad_inches=0.5)\n",
        "plt.show()"
      ],
      "execution_count": 48,
      "outputs": [
        {
          "output_type": "display_data",
          "data": {
            "image/png": "[encoded data removed]",
            "text/plain": [
              "<Figure size 1008x864 with 1 Axes>"
            ]
          },
          "metadata": {
            "tags": [],
            "needs_background": "light"
          }
        }
      ]
    },
    {
      "cell_type": "code",
      "metadata": {
        "colab": {
          "base_uri": "https://localhost:8080/"
        },
        "id": "fb1oZERatFbc",
        "outputId": "40094023-eb6d-4ffc-96bc-dc49091ed434"
      },
      "source": [
        "# Total number of orders\n",
        "\n",
        "len(order_products_train.order_id.value_counts())"
      ],
      "execution_count": 49,
      "outputs": [
        {
          "output_type": "execute_result",
          "data": {
            "text/plain": [
              "131209"
            ]
          },
          "metadata": {
            "tags": []
          },
          "execution_count": 49
        }
      ]
    },
    {
      "cell_type": "code",
      "metadata": {
        "id": "Vd9xOWyLtUYO"
      },
      "source": [
        "# Use SQL to aggregate number of products per order\n",
        "\n",
        "conn = sqlite3.connect('aisles_database.db')\n",
        "order_products_train.to_sql('order_products_train', conn)\n",
        "order_products_train_query = '''\n",
        "  SELECT order_id, COUNT(product_id) AS product_total\n",
        "  FROM order_products_train\n",
        "  GROUP BY order_id;\n",
        "  '''"
      ],
      "execution_count": 54,
      "outputs": []
    },
    {
      "cell_type": "code",
      "metadata": {
        "colab": {
          "base_uri": "https://localhost:8080/",
          "height": 204
        },
        "id": "zRrIFDmMtgfb",
        "outputId": "b1a6441f-5818-4b31-f8a0-f7418e33659e"
      },
      "source": [
        "# Transform back into dataframe and view \n",
        "\n",
        "order_sizes_train_df = pd.read_sql(order_products_train_query, conn)\n",
        "order_sizes_train_df.head()"
      ],
      "execution_count": 55,
      "outputs": [
        {
          "output_type": "execute_result",
          "data": {
            "text/html": [
              "<div>\n",
              "<style scoped>\n",
              "    .dataframe tbody tr th:only-of-type {\n",
              "        vertical-align: middle;\n",
              "    }\n",
              "\n",
              "    .dataframe tbody tr th {\n",
              "        vertical-align: top;\n",
              "    }\n",
              "\n",
              "    .dataframe thead th {\n",
              "        text-align: right;\n",
              "    }\n",
              "</style>\n",
              "<table border=\"1\" class=\"dataframe\">\n",
              "  <thead>\n",
              "    <tr style=\"text-align: right;\">\n",
              "      <th></th>\n",
              "      <th>order_id</th>\n",
              "      <th>product_total</th>\n",
              "    </tr>\n",
              "  </thead>\n",
              "  <tbody>\n",
              "    <tr>\n",
              "      <th>0</th>\n",
              "      <td>1</td>\n",
              "      <td>8</td>\n",
              "    </tr>\n",
              "    <tr>\n",
              "      <th>1</th>\n",
              "      <td>36</td>\n",
              "      <td>8</td>\n",
              "    </tr>\n",
              "    <tr>\n",
              "      <th>2</th>\n",
              "      <td>38</td>\n",
              "      <td>9</td>\n",
              "    </tr>\n",
              "    <tr>\n",
              "      <th>3</th>\n",
              "      <td>96</td>\n",
              "      <td>7</td>\n",
              "    </tr>\n",
              "    <tr>\n",
              "      <th>4</th>\n",
              "      <td>98</td>\n",
              "      <td>49</td>\n",
              "    </tr>\n",
              "  </tbody>\n",
              "</table>\n",
              "</div>"
            ],
            "text/plain": [
              "   order_id  product_total\n",
              "0         1              8\n",
              "1        36              8\n",
              "2        38              9\n",
              "3        96              7\n",
              "4        98             49"
            ]
          },
          "metadata": {
            "tags": []
          },
          "execution_count": 55
        }
      ]
    },
    {
      "cell_type": "code",
      "metadata": {
        "colab": {
          "base_uri": "https://localhost:8080/"
        },
        "id": "0sTCqtzftsM9",
        "outputId": "8ff62d1e-1e41-45a1-a8d9-199efb130ffc"
      },
      "source": [
        "# Confirm that the total number of orders is still the same\n",
        "\n",
        "len(order_sizes_train_df)"
      ],
      "execution_count": 56,
      "outputs": [
        {
          "output_type": "execute_result",
          "data": {
            "text/plain": [
              "131209"
            ]
          },
          "metadata": {
            "tags": []
          },
          "execution_count": 56
        }
      ]
    },
    {
      "cell_type": "code",
      "metadata": {
        "colab": {
          "base_uri": "https://localhost:8080/",
          "height": 621
        },
        "id": "G4_D2vbWu_dc",
        "outputId": "b1202004-6986-447d-ca9e-683811aa061b"
      },
      "source": [
        "#Visualize Number of Products per Order for Train\n",
        "\n",
        "plt.figure(figsize = (12, 10))\n",
        "plt.hist(order_sizes_train_df.product_total, bins = 30, color = 'steelblue')\n",
        "plt.axvline(order_sizes_train_df.product_total.mean(), color = 'lightgreen', linestyle = '--', label = 'Mean')\n",
        "plt.axvline(order_sizes_train_df.product_total.median(), color = 'orange', linestyle = '--', label = 'Median')\n",
        "plt.title('Number of Products per Order for Train')\n",
        "plt.xlabel('Number of Products')\n",
        "plt.ylabel('Orders')\n",
        "plt.legend()\n",
        "sns.despine()\n",
        "plt.savefig('number_products_per_order_train_df.png', dpi = 300, pad_inches = 0.5)\n",
        "plt.show()"
      ],
      "execution_count": 58,
      "outputs": [
        {
          "output_type": "display_data",
          "data": {
            "image/png": "[encoded data removed]",
            "text/plain": [
              "<Figure size 864x720 with 1 Axes>"
            ]
          },
          "metadata": {
            "tags": [],
            "needs_background": "light"
          }
        }
      ]
    },
    {
      "cell_type": "code",
      "metadata": {
        "colab": {
          "base_uri": "https://localhost:8080/"
        },
        "id": "5E9Crxz2vwfs",
        "outputId": "60472243-e103-4c6b-da2d-4df8b2bf925d"
      },
      "source": [
        "# Print Mean and Median of Products per Order for Train\n",
        "\n",
        "print(\"Mean number of products per order:\", order_sizes_train_df.product_total.mean())\n",
        "print(\"Median number of products per order:\", order_sizes_train_df.product_total.median())"
      ],
      "execution_count": 59,
      "outputs": [
        {
          "output_type": "stream",
          "text": [
            "Mean number of products per order: 10.552759338155157\n",
            "Median number of products per order: 9.0\n"
          ],
          "name": "stdout"
        }
      ]
    },
    {
      "cell_type": "code",
      "metadata": {
        "colab": {
          "base_uri": "https://localhost:8080/",
          "height": 621
        },
        "id": "gTS0ESmswDK1",
        "outputId": "827915d5-80fb-4c2a-bd97-3ed4de974f02"
      },
      "source": [
        "# Visualize Reorder Rate per Order for Train\n",
        "\n",
        "plt.figure(figsize = (12, 10))\n",
        "plt.hist(order_products_train.groupby('order_id')['reordered'].mean(), color='steelblue')\n",
        "plt.axvline(order_products_train.reordered.mean(), color = 'lightgreen', linestyle = '--', label = 'Mean')\n",
        "plt.axvline(order_products_train.reordered.median(), color = 'orange', linestyle = '--', label = 'Median')\n",
        "plt.title('Reorder Rate per Order')\n",
        "plt.xlabel('Reorder Rate')\n",
        "plt.ylabel('Orders')\n",
        "plt.legend()\n",
        "sns.despine()\n",
        "plt.savefig('reorder_rate_per_order_train.png', dpi=300, pad_inches=0.5)\n",
        "plt.show()"
      ],
      "execution_count": 61,
      "outputs": [
        {
          "output_type": "display_data",
          "data": {
            "image/png": "[encoded data removed]",
            "text/plain": [
              "<Figure size 864x720 with 1 Axes>"
            ]
          },
          "metadata": {
            "tags": [],
            "needs_background": "light"
          }
        }
      ]
    },
    {
      "cell_type": "code",
      "metadata": {
        "colab": {
          "base_uri": "https://localhost:8080/"
        },
        "id": "N_GmlQaDwO2o",
        "outputId": "4aba2636-7206-4ea2-fd81-14ec9124d30e"
      },
      "source": [
        "# Print Mean and Median of Reorder Rate per Order for Train\n",
        "\n",
        "print(\"Mean number of products per order:\", order_products_train.reordered.mean())\n",
        "print(\"Median number of products per order:\", order_products_train.reordered.median())"
      ],
      "execution_count": 63,
      "outputs": [
        {
          "output_type": "stream",
          "text": [
            "Mean number of products per order: 0.5985944127509629\n",
            "Median number of products per order: 1.0\n"
          ],
          "name": "stdout"
        }
      ]
    },
    {
      "cell_type": "markdown",
      "metadata": {
        "id": "ZEj2ynThwmGs"
      },
      "source": [
        "## End of Preliminary Exploratory Analysis - Continue with Deeper Analysis in another Notebook"
      ]
    },
    {
      "cell_type": "code",
      "metadata": {
        "id": "BnnepeGWwkLw"
      },
      "source": [
        ""
      ],
      "execution_count": null,
      "outputs": []
    }
  ]
}